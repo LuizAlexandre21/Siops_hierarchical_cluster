{
 "cells": [
  {
   "cell_type": "markdown",
   "id": "98aa66de-88f9-4f0c-b6bc-b8acfa532039",
   "metadata": {},
   "source": [
    "# Teste de Clusterização"
   ]
  },
  {
   "cell_type": "markdown",
   "id": "53cabaf2-bd6c-4d7f-aa55-58ef2b2f1996",
   "metadata": {},
   "source": [
    "## Pacotes "
   ]
  },
  {
   "cell_type": "code",
   "execution_count": 28,
   "id": "7fe418f9-fa1d-40f6-a1f9-fe66cc3879e4",
   "metadata": {},
   "outputs": [],
   "source": [
    "from database import *\n",
    "from cluster import * \n",
    "from data_treatment import data \n",
    "from spyder_chart import * \n",
    "import pandas as pd \n",
    "import numpy as pd \n",
    "from sklearn.cluster import KMeans"
   ]
  },
  {
   "cell_type": "markdown",
   "id": "36c59f4e-7974-4cfe-a40d-c0e3ffd5c4eb",
   "metadata": {},
   "source": [
    "## Tratando os dados "
   ]
  },
  {
   "cell_type": "markdown",
   "id": "9be9c2be-2f37-47c9-b725-672d5505dba7",
   "metadata": {},
   "source": [
    "### Importando os dados "
   ]
  },
  {
   "cell_type": "code",
   "execution_count": 11,
   "id": "65b0fdd5-9937-4152-b3e5-585506abd4e6",
   "metadata": {},
   "outputs": [],
   "source": [
    "dados = data().dataframe()"
   ]
  },
  {
   "cell_type": "markdown",
   "id": "787b7b26-57f0-4c10-8af8-853c7e1906e1",
   "metadata": {},
   "source": [
    "### Filtrando os 20 municipios aleatórios"
   ]
  },
  {
   "cell_type": "code",
   "execution_count": 15,
   "id": "65a393c5-ed06-4772-bb36-88242116ab15",
   "metadata": {},
   "outputs": [],
   "source": [
    "loc = np.random.randint(178,size=(20))\n",
    "cidades = dados['Municipio'].loc[loc].to_list()\n",
    "dados = dados[dados['Municipio'].str.contains(cidades[0]+\"|\"+cidades[1]+\"|\"+cidades[2]+\"|\"+cidades[3]+\"|\"+cidades[4]+\"|\"+cidades[5]+\"|\"+cidades[6]+\"|\"+cidades[7]+\"|\"+cidades[8]+\"|\"+cidades[9]+\"|\"+cidades[10]+\"|\"+cidades[11]+\"|\"+cidades[12]+\"|\"+cidades[13]+\"|\"+cidades[14]+\"|\"+cidades[15]+\"|\"+cidades[16]+\"|\"+cidades[17]+\"|\"+cidades[18]+\"|\"+cidades[19])]"
   ]
  },
  {
   "cell_type": "markdown",
   "id": "dca3b041-dad4-4939-8f39-7cc01ae8aa30",
   "metadata": {
    "tags": []
   },
   "source": [
    "#### Municipios Selecionados "
   ]
  },
  {
   "cell_type": "code",
   "execution_count": 21,
   "id": "bd248e2d-6a37-4a08-a86c-49f9e6d0c7d4",
   "metadata": {
    "collapsed": true,
    "jupyter": {
     "outputs_hidden": true
    },
    "tags": []
   },
   "outputs": [
    {
     "data": {
      "text/plain": [
       "['Ererê',\n",
       " 'Cedro',\n",
       " 'Moraújo',\n",
       " 'Jijoca de Jericoacoara',\n",
       " 'Itaitinga',\n",
       " 'Aurora',\n",
       " 'Martinópole',\n",
       " 'Jucás',\n",
       " 'Pedra Branca',\n",
       " 'Coreaú',\n",
       " 'Morrinhos',\n",
       " 'Jaguaretama',\n",
       " 'Pacoti',\n",
       " 'Orós',\n",
       " 'São João do Jaguaribe',\n",
       " 'Penaforte',\n",
       " 'Pacatuba',\n",
       " 'Ararendá',\n",
       " 'Guaiúba',\n",
       " 'Jaguaribara']"
      ]
     },
     "execution_count": 21,
     "metadata": {},
     "output_type": "execute_result"
    }
   ],
   "source": [
    "cidades"
   ]
  },
  {
   "cell_type": "markdown",
   "id": "c4ce5209-149d-4a18-a497-82fcb1fcd9bb",
   "metadata": {},
   "source": [
    "### Estimando os modelos "
   ]
  },
  {
   "cell_type": "markdown",
   "id": "fd1c13d6-d2dd-4b89-9f40-9e0c5e9cbafb",
   "metadata": {},
   "source": [
    "#### Dicionario para os centroids "
   ]
  },
  {
   "cell_type": "code",
   "execution_count": 29,
   "id": "50a35105-8e98-48b7-9ea0-a1b9b37dee89",
   "metadata": {},
   "outputs": [],
   "source": [
    "dic = {\n",
    "    'Capacidade':{\n",
    "        'Grupo_1':{'Ano':[],'Valor':[]},'Grupo_2':{'Ano':[],'Valor':[]},'Grupo_3':{'Ano':[],'Valor':[]}\n",
    "        },\n",
    "    'Dependência_União':{\n",
    "        'Grupo_1':{'Ano':[],'Valor':[]},'Grupo_2':{'Ano':[],'Valor':[]},'Grupo_3':{'Ano':[],'Valor':[]}\n",
    "        },\n",
    "    'Dependência_Estado':{\n",
    "        'Grupo_1':{'Ano':[],'Valor':[]},'Grupo_2':{'Ano':[],'Valor':[]},'Grupo_3':{'Ano':[],'Valor':[]}\n",
    "        }\n",
    "    }"
   ]
  },
  {
   "cell_type": "markdown",
   "id": "52f4c87b-3a19-4155-9cdd-e03abca2adb8",
   "metadata": {},
   "source": [
    "#### Calculando os centroids"
   ]
  },
  {
   "cell_type": "code",
   "execution_count": 32,
   "id": "139ddeec-e095-4dd9-bb22-3ebdcf2fd3f1",
   "metadata": {},
   "outputs": [],
   "source": [
    "for ano in range(2013,2019):\n",
    "    \n",
    "    # Filtrando os dados \n",
    "    data = dados[dados['Ano']==ano]\n",
    "    \n",
    "\n",
    "    X = data[['Capacidade','Dependência_União','Dependência_Estado']] \n",
    "    Y_pre = data['IDH']\n",
    "    Y_pre=Y_pre.replace('Medio',1)\n",
    "    Y_pre=Y_pre.replace('Alto',0)\n",
    "    Y_pre=Y_pre.replace('Baixo',2)\n",
    "    Y = Y_pre\n",
    "\n",
    "    \n",
    "    # Criando amostra de treino e teste\n",
    "    X_train, X_test, y_train, y_test = train_test_split(X, Y, test_size=0.20)\n",
    "    \n",
    "    # Criando o classificador \n",
    "    # GridSearch \n",
    "    # Parametros \n",
    "    classifier = KMeans(n_clusters=3)\n",
    "    classifier.fit(X_train,y_train) \n",
    "\n",
    "    # Prevendo  \n",
    "    y_pred=classifier.predict(X_test)\n",
    "\n",
    "    # Capturando o centroid\n",
    "    centroid = classifier.cluster_centers_\n",
    "\n",
    "    # Salvando\n",
    "    for line in range(0,3):\n",
    "        for col in range(0,3):\n",
    "            if line == 0 and col == 0:\n",
    "                dic['Capacidade']['Grupo_1']['Valor'].append(centroid[line][col])\n",
    "                dic['Capacidade']['Grupo_1']['Ano'].append(ano)\n",
    "            elif line == 0 and col == 1:\n",
    "                dic['Dependência_União']['Grupo_1']['Valor'].append(centroid[line][col])\n",
    "                dic['Dependência_União']['Grupo_1']['Ano'].append(ano)\n",
    "            elif line == 0 and col == 2:\n",
    "                dic['Dependência_Estado']['Grupo_1']['Valor'].append(centroid[line][col])\n",
    "                dic['Dependência_Estado']['Grupo_1']['Ano'].append(ano)\n",
    "            elif line == 1 and col == 0:\n",
    "                dic['Capacidade']['Grupo_2']['Valor'].append(centroid[line][col])\n",
    "                dic['Capacidade']['Grupo_2']['Ano'].append(ano)\n",
    "            elif line == 1 and col == 1:\n",
    "                dic['Dependência_União']['Grupo_2']['Valor'].append(centroid[line][col])\n",
    "                dic['Dependência_União']['Grupo_2']['Ano'].append(ano)\n",
    "            elif line == 1 and col == 2:\n",
    "                dic['Dependência_Estado']['Grupo_2']['Valor'].append(centroid[line][col])\n",
    "                dic['Dependência_Estado']['Grupo_2']['Ano'].append(ano)\n",
    "            elif line ==2 and col == 0:\n",
    "                dic['Capacidade']['Grupo_3']['Valor'].append(centroid[line][col])\n",
    "                dic['Capacidade']['Grupo_3']['Ano'].append(ano)\n",
    "            elif line == 2 and col == 1:\n",
    "                dic['Dependência_União']['Grupo_3']['Valor'].append(centroid[line][col])\n",
    "                dic['Dependência_União']['Grupo_3']['Ano'].append(ano)\n",
    "            elif line == 2 and col == 2:\n",
    "                dic['Dependência_Estado']['Grupo_3']['Valor'].append(centroid[line][col])\n",
    "                dic['Dependência_Estado']['Grupo_3']['Ano'].append(ano)\n"
   ]
  },
  {
   "cell_type": "markdown",
   "id": "5b64aaae-484f-40ec-b28e-b3affc0e09bd",
   "metadata": {},
   "source": [
    "### Criando Graficos "
   ]
  }
 ],
 "metadata": {
  "kernelspec": {
   "display_name": "Python 3 (ipykernel)",
   "language": "python",
   "name": "python3"
  },
  "language_info": {
   "codemirror_mode": {
    "name": "ipython",
    "version": 3
   },
   "file_extension": ".py",
   "mimetype": "text/x-python",
   "name": "python",
   "nbconvert_exporter": "python",
   "pygments_lexer": "ipython3",
   "version": "3.10.2"
  }
 },
 "nbformat": 4,
 "nbformat_minor": 5
}
